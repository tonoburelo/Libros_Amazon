{
 "cells": [
  {
   "cell_type": "markdown",
   "metadata": {},
   "source": [
    "## **IMPORTAR LIBRERIAS Y DATAFRAMES**"
   ]
  },
  {
   "cell_type": "code",
   "execution_count": 1,
   "id": "36a9d032",
   "metadata": {},
   "outputs": [],
   "source": [
    "import pandas as pd\n",
    "import seaborn as sns\n",
    "##Estas librerias son para el uso de SQL dentro de Python\n",
    "from sqlalchemy import engine\n",
    "from pandasql import sqldf\n",
    "\n",
    "##Función lambda que hace escribir funciones sql más fácil\n",
    "pysqldf = lambda q: sqldf(q, globals())"
   ]
  },
  {
   "cell_type": "code",
   "execution_count": 2,
   "id": "2e23056f",
   "metadata": {},
   "outputs": [],
   "source": [
    "#Importar el primer dataframe con los datos de los libros\n",
    "df = pd.read_csv('Books_data.csv')"
   ]
  },
  {
   "cell_type": "code",
   "execution_count": 38,
   "metadata": {},
   "outputs": [],
   "source": [
    "#Importar el segundo dataframe con la información de los ratings de los libros\n",
    "df2 = pd.read_csv('Books_rating.csv')"
   ]
  },
  {
   "cell_type": "markdown",
   "metadata": {},
   "source": [
    "## **LIMPIEZA Y TRANSFORMACIÓN DE DATOS**"
   ]
  },
  {
   "cell_type": "code",
   "execution_count": 3,
   "id": "bf1f13f9",
   "metadata": {},
   "outputs": [
    {
     "data": {
      "text/html": [
       "<div>\n",
       "<style scoped>\n",
       "    .dataframe tbody tr th:only-of-type {\n",
       "        vertical-align: middle;\n",
       "    }\n",
       "\n",
       "    .dataframe tbody tr th {\n",
       "        vertical-align: top;\n",
       "    }\n",
       "\n",
       "    .dataframe thead th {\n",
       "        text-align: right;\n",
       "    }\n",
       "</style>\n",
       "<table border=\"1\" class=\"dataframe\">\n",
       "  <thead>\n",
       "    <tr style=\"text-align: right;\">\n",
       "      <th></th>\n",
       "      <th>Unnamed: 0</th>\n",
       "      <th>title</th>\n",
       "      <th>authors</th>\n",
       "      <th>publisher</th>\n",
       "      <th>categories</th>\n",
       "      <th>ratingsCount</th>\n",
       "    </tr>\n",
       "  </thead>\n",
       "  <tbody>\n",
       "    <tr>\n",
       "      <th>0</th>\n",
       "      <td>0</td>\n",
       "      <td>Its Only Art If Its Well Hung!</td>\n",
       "      <td>['Julie Strain']</td>\n",
       "      <td>NaN</td>\n",
       "      <td>['Comics &amp; Graphic Novels']</td>\n",
       "      <td>0.0</td>\n",
       "    </tr>\n",
       "    <tr>\n",
       "      <th>1</th>\n",
       "      <td>1</td>\n",
       "      <td>Dr. Seuss: American Icon</td>\n",
       "      <td>['Philip Nel']</td>\n",
       "      <td>A&amp;C Black</td>\n",
       "      <td>['Biography &amp; Autobiography']</td>\n",
       "      <td>0.0</td>\n",
       "    </tr>\n",
       "    <tr>\n",
       "      <th>2</th>\n",
       "      <td>2</td>\n",
       "      <td>Wonderful Worship in Smaller Churches</td>\n",
       "      <td>['David R. Ray']</td>\n",
       "      <td>NaN</td>\n",
       "      <td>['Religion']</td>\n",
       "      <td>0.0</td>\n",
       "    </tr>\n",
       "    <tr>\n",
       "      <th>3</th>\n",
       "      <td>3</td>\n",
       "      <td>Whispers of the Wicked Saints</td>\n",
       "      <td>['Veronica Haddon']</td>\n",
       "      <td>iUniverse</td>\n",
       "      <td>['Fiction']</td>\n",
       "      <td>0.0</td>\n",
       "    </tr>\n",
       "    <tr>\n",
       "      <th>4</th>\n",
       "      <td>4</td>\n",
       "      <td>Nation Dance: Religion, Identity and Cultural ...</td>\n",
       "      <td>['Edward Long']</td>\n",
       "      <td>NaN</td>\n",
       "      <td>NaN</td>\n",
       "      <td>0.0</td>\n",
       "    </tr>\n",
       "    <tr>\n",
       "      <th>...</th>\n",
       "      <td>...</td>\n",
       "      <td>...</td>\n",
       "      <td>...</td>\n",
       "      <td>...</td>\n",
       "      <td>...</td>\n",
       "      <td>...</td>\n",
       "    </tr>\n",
       "    <tr>\n",
       "      <th>180985</th>\n",
       "      <td>212398</td>\n",
       "      <td>Autodesk Inventor 10 Essentials Plus</td>\n",
       "      <td>['Daniel Banach', 'Travis Jones']</td>\n",
       "      <td>SDC Publications</td>\n",
       "      <td>['Computers']</td>\n",
       "      <td>0.0</td>\n",
       "    </tr>\n",
       "    <tr>\n",
       "      <th>180986</th>\n",
       "      <td>212399</td>\n",
       "      <td>The Orphan Of Ellis Island (Time Travel Advent...</td>\n",
       "      <td>['Elvira Woodruff']</td>\n",
       "      <td>Scholastic Paperbacks</td>\n",
       "      <td>['Juvenile Fiction']</td>\n",
       "      <td>2.0</td>\n",
       "    </tr>\n",
       "    <tr>\n",
       "      <th>180987</th>\n",
       "      <td>212401</td>\n",
       "      <td>Mamaw</td>\n",
       "      <td>['Wild Wild Cabbage']</td>\n",
       "      <td>NaN</td>\n",
       "      <td>NaN</td>\n",
       "      <td>0.0</td>\n",
       "    </tr>\n",
       "    <tr>\n",
       "      <th>180988</th>\n",
       "      <td>212402</td>\n",
       "      <td>The Autograph Man</td>\n",
       "      <td>['Zadie Smith']</td>\n",
       "      <td>Vintage</td>\n",
       "      <td>['Fiction']</td>\n",
       "      <td>19.0</td>\n",
       "    </tr>\n",
       "    <tr>\n",
       "      <th>180989</th>\n",
       "      <td>212403</td>\n",
       "      <td>Student's Solutions Manual for Johnson/Mowry's...</td>\n",
       "      <td>['David B. Johnson', 'Thomas A. Mowry']</td>\n",
       "      <td>Brooks/Cole Publishing Company</td>\n",
       "      <td>NaN</td>\n",
       "      <td>0.0</td>\n",
       "    </tr>\n",
       "  </tbody>\n",
       "</table>\n",
       "<p>180990 rows × 6 columns</p>\n",
       "</div>"
      ],
      "text/plain": [
       "        Unnamed: 0                                              title  \\\n",
       "0                0                     Its Only Art If Its Well Hung!   \n",
       "1                1                           Dr. Seuss: American Icon   \n",
       "2                2              Wonderful Worship in Smaller Churches   \n",
       "3                3                      Whispers of the Wicked Saints   \n",
       "4                4  Nation Dance: Religion, Identity and Cultural ...   \n",
       "...            ...                                                ...   \n",
       "180985      212398               Autodesk Inventor 10 Essentials Plus   \n",
       "180986      212399  The Orphan Of Ellis Island (Time Travel Advent...   \n",
       "180987      212401                                              Mamaw   \n",
       "180988      212402                                  The Autograph Man   \n",
       "180989      212403  Student's Solutions Manual for Johnson/Mowry's...   \n",
       "\n",
       "                                        authors  \\\n",
       "0                              ['Julie Strain']   \n",
       "1                                ['Philip Nel']   \n",
       "2                              ['David R. Ray']   \n",
       "3                           ['Veronica Haddon']   \n",
       "4                               ['Edward Long']   \n",
       "...                                         ...   \n",
       "180985        ['Daniel Banach', 'Travis Jones']   \n",
       "180986                      ['Elvira Woodruff']   \n",
       "180987                    ['Wild Wild Cabbage']   \n",
       "180988                          ['Zadie Smith']   \n",
       "180989  ['David B. Johnson', 'Thomas A. Mowry']   \n",
       "\n",
       "                             publisher                     categories  \\\n",
       "0                                  NaN    ['Comics & Graphic Novels']   \n",
       "1                            A&C Black  ['Biography & Autobiography']   \n",
       "2                                  NaN                   ['Religion']   \n",
       "3                            iUniverse                    ['Fiction']   \n",
       "4                                  NaN                            NaN   \n",
       "...                                ...                            ...   \n",
       "180985                SDC Publications                  ['Computers']   \n",
       "180986           Scholastic Paperbacks           ['Juvenile Fiction']   \n",
       "180987                             NaN                            NaN   \n",
       "180988                         Vintage                    ['Fiction']   \n",
       "180989  Brooks/Cole Publishing Company                            NaN   \n",
       "\n",
       "        ratingsCount  \n",
       "0                0.0  \n",
       "1                0.0  \n",
       "2                0.0  \n",
       "3                0.0  \n",
       "4                0.0  \n",
       "...              ...  \n",
       "180985           0.0  \n",
       "180986           2.0  \n",
       "180987           0.0  \n",
       "180988          19.0  \n",
       "180989           0.0  \n",
       "\n",
       "[180990 rows x 6 columns]"
      ]
     },
     "metadata": {},
     "output_type": "display_data"
    },
    {
     "data": {
      "text/plain": [
       "Unnamed: 0        int64\n",
       "title            object\n",
       "authors          object\n",
       "publisher        object\n",
       "categories       object\n",
       "ratingsCount    float64\n",
       "dtype: object"
      ]
     },
     "metadata": {},
     "output_type": "display_data"
    }
   ],
   "source": [
    "#Código para ver el tipo de datos en el primer dataframe\n",
    "display(\n",
    "\tdf,\n",
    "    df.dtypes\n",
    ")"
   ]
  },
  {
   "cell_type": "code",
   "execution_count": 128,
   "metadata": {},
   "outputs": [],
   "source": [
    "#Para trabajar con el primer dataframe dejo solo las columnas con las voy a trabajar\n",
    "df = df[['Title', 'authors', 'publisher', 'categories', 'ratingsCount']]"
   ]
  },
  {
   "cell_type": "code",
   "execution_count": 7,
   "id": "453caf77",
   "metadata": {},
   "outputs": [
    {
     "data": {
      "text/plain": [
       "0"
      ]
     },
     "execution_count": 7,
     "metadata": {},
     "output_type": "execute_result"
    }
   ],
   "source": [
    "#Comprobamos si hay filas duplicadas\n",
    "df.duplicated().sum()"
   ]
  },
  {
   "cell_type": "code",
   "execution_count": 68,
   "metadata": {},
   "outputs": [
    {
     "data": {
      "text/plain": [
       "0"
      ]
     },
     "execution_count": 68,
     "metadata": {},
     "output_type": "execute_result"
    }
   ],
   "source": [
    "#Compruebo si hay valores nulos en la columna Title\n",
    "df['Title'].isnull().sum()"
   ]
  },
  {
   "cell_type": "code",
   "execution_count": 130,
   "id": "f7284f14",
   "metadata": {},
   "outputs": [],
   "source": [
    "#Elimino los valores nulos de la columna Title\n",
    "df = df.dropna(subset=['Title'])"
   ]
  },
  {
   "cell_type": "code",
   "execution_count": 99,
   "metadata": {},
   "outputs": [
    {
     "data": {
      "text/plain": [
       "0"
      ]
     },
     "execution_count": 99,
     "metadata": {},
     "output_type": "execute_result"
    }
   ],
   "source": [
    "#Compruebo si hay valores nulos en la columna authors\n",
    "df['authors'].isnull().sum()"
   ]
  },
  {
   "cell_type": "code",
   "execution_count": 131,
   "metadata": {},
   "outputs": [],
   "source": [
    "#Elimino los valores nulos de la columna authors\n",
    "df = df.dropna(subset=['authors'])"
   ]
  },
  {
   "cell_type": "code",
   "execution_count": null,
   "metadata": {},
   "outputs": [],
   "source": [
    "#Compruebo si existe un valor en especifico en la columna authors\n",
    "df.groupby(['authors']).get_group(\"['Maharshi Ramana']\")"
   ]
  },
  {
   "cell_type": "code",
   "execution_count": 70,
   "metadata": {},
   "outputs": [
    {
     "data": {
      "text/plain": [
       "46119"
      ]
     },
     "execution_count": 70,
     "metadata": {},
     "output_type": "execute_result"
    }
   ],
   "source": [
    "#Compruebo el numero de valores nulos en la columna publisher\n",
    "df['publisher'].isnull().sum()"
   ]
  },
  {
   "cell_type": "code",
   "execution_count": 15,
   "metadata": {},
   "outputs": [],
   "source": [
    "#df = df.dropna(subset=('publisher'))"
   ]
  },
  {
   "cell_type": "code",
   "execution_count": 71,
   "metadata": {},
   "outputs": [
    {
     "data": {
      "text/plain": [
       "974"
      ]
     },
     "execution_count": 71,
     "metadata": {},
     "output_type": "execute_result"
    }
   ],
   "source": [
    "df['publishedDate'].isnull().sum()"
   ]
  },
  {
   "cell_type": "code",
   "execution_count": 17,
   "metadata": {},
   "outputs": [],
   "source": [
    "#df=df.dropna(subset=('publishedDate'))"
   ]
  },
  {
   "cell_type": "code",
   "execution_count": 101,
   "metadata": {},
   "outputs": [
    {
     "data": {
      "text/plain": [
       "0"
      ]
     },
     "execution_count": 101,
     "metadata": {},
     "output_type": "execute_result"
    }
   ],
   "source": [
    "df['ratingsCount'].isnull().sum()"
   ]
  },
  {
   "cell_type": "code",
   "execution_count": 133,
   "metadata": {},
   "outputs": [],
   "source": [
    "#Combertir los nulos de la columna ratingsCount en ceros\n",
    "df['ratingsCount'].fillna(0, inplace=True)"
   ]
  },
  {
   "cell_type": "code",
   "execution_count": null,
   "metadata": {},
   "outputs": [],
   "source": [
    "df.groupby(['ratingsCount']).get_group(0)"
   ]
  },
  {
   "cell_type": "code",
   "execution_count": 149,
   "metadata": {},
   "outputs": [],
   "source": [
    "#Quitar los corchetes y las comillas de las columnas authors y categories del dataframe1\n",
    "x = ['authors', 'categories'] \n",
    "df[x] = df[x].replace({\"\\['\": \"\"}, regex=True)\n",
    "df[x] = df[x].replace({'\\[\"': ''}, regex=True)\n",
    "df[x] = df[x].replace({\"\\']\": \"\"}, regex=True)\n",
    "df[x] = df[x].replace({'\\\"]': ''}, regex=True)"
   ]
  },
  {
   "cell_type": "code",
   "execution_count": 150,
   "metadata": {},
   "outputs": [
    {
     "data": {
      "text/html": [
       "<div>\n",
       "<style scoped>\n",
       "    .dataframe tbody tr th:only-of-type {\n",
       "        vertical-align: middle;\n",
       "    }\n",
       "\n",
       "    .dataframe tbody tr th {\n",
       "        vertical-align: top;\n",
       "    }\n",
       "\n",
       "    .dataframe thead th {\n",
       "        text-align: right;\n",
       "    }\n",
       "</style>\n",
       "<table border=\"1\" class=\"dataframe\">\n",
       "  <thead>\n",
       "    <tr style=\"text-align: right;\">\n",
       "      <th></th>\n",
       "      <th>Title</th>\n",
       "      <th>authors</th>\n",
       "      <th>publisher</th>\n",
       "      <th>categories</th>\n",
       "      <th>ratingsCount</th>\n",
       "    </tr>\n",
       "  </thead>\n",
       "  <tbody>\n",
       "    <tr>\n",
       "      <th>0</th>\n",
       "      <td>Its Only Art If Its Well Hung!</td>\n",
       "      <td>Julie Strain</td>\n",
       "      <td>NaN</td>\n",
       "      <td>Comics &amp; Graphic Novels</td>\n",
       "      <td>0.0</td>\n",
       "    </tr>\n",
       "    <tr>\n",
       "      <th>1</th>\n",
       "      <td>Dr. Seuss: American Icon</td>\n",
       "      <td>Philip Nel</td>\n",
       "      <td>A&amp;C Black</td>\n",
       "      <td>Biography &amp; Autobiography</td>\n",
       "      <td>0.0</td>\n",
       "    </tr>\n",
       "    <tr>\n",
       "      <th>2</th>\n",
       "      <td>Wonderful Worship in Smaller Churches</td>\n",
       "      <td>David R. Ray</td>\n",
       "      <td>NaN</td>\n",
       "      <td>Religion</td>\n",
       "      <td>0.0</td>\n",
       "    </tr>\n",
       "    <tr>\n",
       "      <th>3</th>\n",
       "      <td>Whispers of the Wicked Saints</td>\n",
       "      <td>Veronica Haddon</td>\n",
       "      <td>iUniverse</td>\n",
       "      <td>Fiction</td>\n",
       "      <td>0.0</td>\n",
       "    </tr>\n",
       "    <tr>\n",
       "      <th>4</th>\n",
       "      <td>Nation Dance: Religion, Identity and Cultural ...</td>\n",
       "      <td>Edward Long</td>\n",
       "      <td>NaN</td>\n",
       "      <td>NaN</td>\n",
       "      <td>0.0</td>\n",
       "    </tr>\n",
       "    <tr>\n",
       "      <th>...</th>\n",
       "      <td>...</td>\n",
       "      <td>...</td>\n",
       "      <td>...</td>\n",
       "      <td>...</td>\n",
       "      <td>...</td>\n",
       "    </tr>\n",
       "    <tr>\n",
       "      <th>212398</th>\n",
       "      <td>Autodesk Inventor 10 Essentials Plus</td>\n",
       "      <td>Daniel Banach', 'Travis Jones</td>\n",
       "      <td>SDC Publications</td>\n",
       "      <td>Computers</td>\n",
       "      <td>0.0</td>\n",
       "    </tr>\n",
       "    <tr>\n",
       "      <th>212399</th>\n",
       "      <td>The Orphan Of Ellis Island (Time Travel Advent...</td>\n",
       "      <td>Elvira Woodruff</td>\n",
       "      <td>Scholastic Paperbacks</td>\n",
       "      <td>Juvenile Fiction</td>\n",
       "      <td>2.0</td>\n",
       "    </tr>\n",
       "    <tr>\n",
       "      <th>212401</th>\n",
       "      <td>Mamaw</td>\n",
       "      <td>Wild Wild Cabbage</td>\n",
       "      <td>NaN</td>\n",
       "      <td>NaN</td>\n",
       "      <td>0.0</td>\n",
       "    </tr>\n",
       "    <tr>\n",
       "      <th>212402</th>\n",
       "      <td>The Autograph Man</td>\n",
       "      <td>Zadie Smith</td>\n",
       "      <td>Vintage</td>\n",
       "      <td>Fiction</td>\n",
       "      <td>19.0</td>\n",
       "    </tr>\n",
       "    <tr>\n",
       "      <th>212403</th>\n",
       "      <td>Student's Solutions Manual for Johnson/Mowry's...</td>\n",
       "      <td>David B. Johnson', 'Thomas A. Mowry</td>\n",
       "      <td>Brooks/Cole Publishing Company</td>\n",
       "      <td>NaN</td>\n",
       "      <td>0.0</td>\n",
       "    </tr>\n",
       "  </tbody>\n",
       "</table>\n",
       "<p>180990 rows × 5 columns</p>\n",
       "</div>"
      ],
      "text/plain": [
       "                                                    Title  \\\n",
       "0                          Its Only Art If Its Well Hung!   \n",
       "1                                Dr. Seuss: American Icon   \n",
       "2                   Wonderful Worship in Smaller Churches   \n",
       "3                           Whispers of the Wicked Saints   \n",
       "4       Nation Dance: Religion, Identity and Cultural ...   \n",
       "...                                                   ...   \n",
       "212398               Autodesk Inventor 10 Essentials Plus   \n",
       "212399  The Orphan Of Ellis Island (Time Travel Advent...   \n",
       "212401                                              Mamaw   \n",
       "212402                                  The Autograph Man   \n",
       "212403  Student's Solutions Manual for Johnson/Mowry's...   \n",
       "\n",
       "                                    authors                       publisher  \\\n",
       "0                              Julie Strain                             NaN   \n",
       "1                                Philip Nel                       A&C Black   \n",
       "2                              David R. Ray                             NaN   \n",
       "3                           Veronica Haddon                       iUniverse   \n",
       "4                               Edward Long                             NaN   \n",
       "...                                     ...                             ...   \n",
       "212398        Daniel Banach', 'Travis Jones                SDC Publications   \n",
       "212399                      Elvira Woodruff           Scholastic Paperbacks   \n",
       "212401                    Wild Wild Cabbage                             NaN   \n",
       "212402                          Zadie Smith                         Vintage   \n",
       "212403  David B. Johnson', 'Thomas A. Mowry  Brooks/Cole Publishing Company   \n",
       "\n",
       "                       categories  ratingsCount  \n",
       "0         Comics & Graphic Novels           0.0  \n",
       "1       Biography & Autobiography           0.0  \n",
       "2                        Religion           0.0  \n",
       "3                         Fiction           0.0  \n",
       "4                             NaN           0.0  \n",
       "...                           ...           ...  \n",
       "212398                  Computers           0.0  \n",
       "212399           Juvenile Fiction           2.0  \n",
       "212401                        NaN           0.0  \n",
       "212402                    Fiction          19.0  \n",
       "212403                        NaN           0.0  \n",
       "\n",
       "[180990 rows x 5 columns]"
      ]
     },
     "execution_count": 150,
     "metadata": {},
     "output_type": "execute_result"
    }
   ],
   "source": [
    "df"
   ]
  },
  {
   "cell_type": "code",
   "execution_count": 153,
   "metadata": {},
   "outputs": [
    {
     "data": {
      "text/html": [
       "<div>\n",
       "<style scoped>\n",
       "    .dataframe tbody tr th:only-of-type {\n",
       "        vertical-align: middle;\n",
       "    }\n",
       "\n",
       "    .dataframe tbody tr th {\n",
       "        vertical-align: top;\n",
       "    }\n",
       "\n",
       "    .dataframe thead th {\n",
       "        text-align: right;\n",
       "    }\n",
       "</style>\n",
       "<table border=\"1\" class=\"dataframe\">\n",
       "  <thead>\n",
       "    <tr style=\"text-align: right;\">\n",
       "      <th></th>\n",
       "      <th>Unnamed: 0</th>\n",
       "      <th>title2</th>\n",
       "      <th>price</th>\n",
       "      <th>review_score</th>\n",
       "    </tr>\n",
       "  </thead>\n",
       "  <tbody>\n",
       "    <tr>\n",
       "      <th>0</th>\n",
       "      <td>0</td>\n",
       "      <td>Its Only Art If Its Well Hung!</td>\n",
       "      <td>NaN</td>\n",
       "      <td>4.0</td>\n",
       "    </tr>\n",
       "    <tr>\n",
       "      <th>1</th>\n",
       "      <td>1</td>\n",
       "      <td>Dr. Seuss: American Icon</td>\n",
       "      <td>NaN</td>\n",
       "      <td>5.0</td>\n",
       "    </tr>\n",
       "    <tr>\n",
       "      <th>2</th>\n",
       "      <td>2</td>\n",
       "      <td>Dr. Seuss: American Icon</td>\n",
       "      <td>NaN</td>\n",
       "      <td>5.0</td>\n",
       "    </tr>\n",
       "    <tr>\n",
       "      <th>3</th>\n",
       "      <td>3</td>\n",
       "      <td>Dr. Seuss: American Icon</td>\n",
       "      <td>NaN</td>\n",
       "      <td>4.0</td>\n",
       "    </tr>\n",
       "    <tr>\n",
       "      <th>4</th>\n",
       "      <td>4</td>\n",
       "      <td>Dr. Seuss: American Icon</td>\n",
       "      <td>NaN</td>\n",
       "      <td>4.0</td>\n",
       "    </tr>\n",
       "    <tr>\n",
       "      <th>...</th>\n",
       "      <td>...</td>\n",
       "      <td>...</td>\n",
       "      <td>...</td>\n",
       "      <td>...</td>\n",
       "    </tr>\n",
       "    <tr>\n",
       "      <th>2999787</th>\n",
       "      <td>2999995</td>\n",
       "      <td>The Idea of History</td>\n",
       "      <td>NaN</td>\n",
       "      <td>4.0</td>\n",
       "    </tr>\n",
       "    <tr>\n",
       "      <th>2999788</th>\n",
       "      <td>2999996</td>\n",
       "      <td>The Idea of History</td>\n",
       "      <td>NaN</td>\n",
       "      <td>4.0</td>\n",
       "    </tr>\n",
       "    <tr>\n",
       "      <th>2999789</th>\n",
       "      <td>2999997</td>\n",
       "      <td>The Idea of History</td>\n",
       "      <td>NaN</td>\n",
       "      <td>4.0</td>\n",
       "    </tr>\n",
       "    <tr>\n",
       "      <th>2999790</th>\n",
       "      <td>2999998</td>\n",
       "      <td>The Idea of History</td>\n",
       "      <td>NaN</td>\n",
       "      <td>5.0</td>\n",
       "    </tr>\n",
       "    <tr>\n",
       "      <th>2999791</th>\n",
       "      <td>2999999</td>\n",
       "      <td>The Idea of History</td>\n",
       "      <td>NaN</td>\n",
       "      <td>1.0</td>\n",
       "    </tr>\n",
       "  </tbody>\n",
       "</table>\n",
       "<p>2999792 rows × 4 columns</p>\n",
       "</div>"
      ],
      "text/plain": [
       "         Unnamed: 0                          title2  price  review_score\n",
       "0                 0  Its Only Art If Its Well Hung!    NaN           4.0\n",
       "1                 1        Dr. Seuss: American Icon    NaN           5.0\n",
       "2                 2        Dr. Seuss: American Icon    NaN           5.0\n",
       "3                 3        Dr. Seuss: American Icon    NaN           4.0\n",
       "4                 4        Dr. Seuss: American Icon    NaN           4.0\n",
       "...             ...                             ...    ...           ...\n",
       "2999787     2999995             The Idea of History    NaN           4.0\n",
       "2999788     2999996             The Idea of History    NaN           4.0\n",
       "2999789     2999997             The Idea of History    NaN           4.0\n",
       "2999790     2999998             The Idea of History    NaN           5.0\n",
       "2999791     2999999             The Idea of History    NaN           1.0\n",
       "\n",
       "[2999792 rows x 4 columns]"
      ]
     },
     "metadata": {},
     "output_type": "display_data"
    },
    {
     "data": {
      "text/plain": [
       "Unnamed: 0        int64\n",
       "title2           object\n",
       "price           float64\n",
       "review_score    float64\n",
       "dtype: object"
      ]
     },
     "metadata": {},
     "output_type": "display_data"
    }
   ],
   "source": [
    "#Código para ver el tipo de datos en segundo dataframe\n",
    "display(df2, df2.dtypes)"
   ]
  },
  {
   "cell_type": "code",
   "execution_count": 157,
   "metadata": {},
   "outputs": [],
   "source": [
    "#Para trabajar con el dataframe2 dejo solo las columnas con información relevante que voy a utilizar\n",
    "df2 = df2[['Title','Price','review/score']]"
   ]
  },
  {
   "cell_type": "code",
   "execution_count": 16,
   "metadata": {},
   "outputs": [
    {
     "data": {
      "text/plain": [
       "208"
      ]
     },
     "execution_count": 16,
     "metadata": {},
     "output_type": "execute_result"
    }
   ],
   "source": [
    "df2['Title'].isnull().sum()"
   ]
  },
  {
   "cell_type": "code",
   "execution_count": 17,
   "metadata": {},
   "outputs": [],
   "source": [
    "df2 = df2.dropna(subset=['Title'])"
   ]
  },
  {
   "cell_type": "code",
   "execution_count": 77,
   "metadata": {},
   "outputs": [
    {
     "data": {
      "text/plain": [
       "2518628"
      ]
     },
     "execution_count": 77,
     "metadata": {},
     "output_type": "execute_result"
    }
   ],
   "source": [
    "#Compruebo los valores nulos en la columna Price del dataframe2\n",
    "df2['Price'].isnull().sum()"
   ]
  },
  {
   "cell_type": "code",
   "execution_count": 23,
   "metadata": {},
   "outputs": [],
   "source": [
    "#Elimino los valores nulos de la columna Price del dataframe2\n",
    "#df2 = df2.dropna(subset=['Price'])"
   ]
  },
  {
   "cell_type": "code",
   "execution_count": 31,
   "metadata": {},
   "outputs": [
    {
     "data": {
      "text/plain": [
       "0"
      ]
     },
     "execution_count": 31,
     "metadata": {},
     "output_type": "execute_result"
    }
   ],
   "source": [
    "df2['review_score'].isnull().sum()"
   ]
  },
  {
   "cell_type": "code",
   "execution_count": 158,
   "metadata": {},
   "outputs": [
    {
     "data": {
      "text/html": [
       "<div>\n",
       "<style scoped>\n",
       "    .dataframe tbody tr th:only-of-type {\n",
       "        vertical-align: middle;\n",
       "    }\n",
       "\n",
       "    .dataframe tbody tr th {\n",
       "        vertical-align: top;\n",
       "    }\n",
       "\n",
       "    .dataframe thead th {\n",
       "        text-align: right;\n",
       "    }\n",
       "</style>\n",
       "<table border=\"1\" class=\"dataframe\">\n",
       "  <thead>\n",
       "    <tr style=\"text-align: right;\">\n",
       "      <th></th>\n",
       "      <th>title2</th>\n",
       "      <th>price</th>\n",
       "      <th>review_score</th>\n",
       "    </tr>\n",
       "  </thead>\n",
       "  <tbody>\n",
       "    <tr>\n",
       "      <th>0</th>\n",
       "      <td>Its Only Art If Its Well Hung!</td>\n",
       "      <td>NaN</td>\n",
       "      <td>4.0</td>\n",
       "    </tr>\n",
       "    <tr>\n",
       "      <th>1</th>\n",
       "      <td>Dr. Seuss: American Icon</td>\n",
       "      <td>NaN</td>\n",
       "      <td>5.0</td>\n",
       "    </tr>\n",
       "    <tr>\n",
       "      <th>2</th>\n",
       "      <td>Dr. Seuss: American Icon</td>\n",
       "      <td>NaN</td>\n",
       "      <td>5.0</td>\n",
       "    </tr>\n",
       "    <tr>\n",
       "      <th>3</th>\n",
       "      <td>Dr. Seuss: American Icon</td>\n",
       "      <td>NaN</td>\n",
       "      <td>4.0</td>\n",
       "    </tr>\n",
       "    <tr>\n",
       "      <th>4</th>\n",
       "      <td>Dr. Seuss: American Icon</td>\n",
       "      <td>NaN</td>\n",
       "      <td>4.0</td>\n",
       "    </tr>\n",
       "    <tr>\n",
       "      <th>...</th>\n",
       "      <td>...</td>\n",
       "      <td>...</td>\n",
       "      <td>...</td>\n",
       "    </tr>\n",
       "    <tr>\n",
       "      <th>2999787</th>\n",
       "      <td>The Idea of History</td>\n",
       "      <td>NaN</td>\n",
       "      <td>4.0</td>\n",
       "    </tr>\n",
       "    <tr>\n",
       "      <th>2999788</th>\n",
       "      <td>The Idea of History</td>\n",
       "      <td>NaN</td>\n",
       "      <td>4.0</td>\n",
       "    </tr>\n",
       "    <tr>\n",
       "      <th>2999789</th>\n",
       "      <td>The Idea of History</td>\n",
       "      <td>NaN</td>\n",
       "      <td>4.0</td>\n",
       "    </tr>\n",
       "    <tr>\n",
       "      <th>2999790</th>\n",
       "      <td>The Idea of History</td>\n",
       "      <td>NaN</td>\n",
       "      <td>5.0</td>\n",
       "    </tr>\n",
       "    <tr>\n",
       "      <th>2999791</th>\n",
       "      <td>The Idea of History</td>\n",
       "      <td>NaN</td>\n",
       "      <td>1.0</td>\n",
       "    </tr>\n",
       "  </tbody>\n",
       "</table>\n",
       "<p>2999792 rows × 3 columns</p>\n",
       "</div>"
      ],
      "text/plain": [
       "                                 title2  price  review_score\n",
       "0        Its Only Art If Its Well Hung!    NaN           4.0\n",
       "1              Dr. Seuss: American Icon    NaN           5.0\n",
       "2              Dr. Seuss: American Icon    NaN           5.0\n",
       "3              Dr. Seuss: American Icon    NaN           4.0\n",
       "4              Dr. Seuss: American Icon    NaN           4.0\n",
       "...                                 ...    ...           ...\n",
       "2999787             The Idea of History    NaN           4.0\n",
       "2999788             The Idea of History    NaN           4.0\n",
       "2999789             The Idea of History    NaN           4.0\n",
       "2999790             The Idea of History    NaN           5.0\n",
       "2999791             The Idea of History    NaN           1.0\n",
       "\n",
       "[2999792 rows x 3 columns]"
      ]
     },
     "execution_count": 158,
     "metadata": {},
     "output_type": "execute_result"
    }
   ],
   "source": [
    "df2"
   ]
  },
  {
   "cell_type": "code",
   "execution_count": 159,
   "metadata": {},
   "outputs": [
    {
     "data": {
      "text/plain": [
       "(2999792, 3)"
      ]
     },
     "execution_count": 159,
     "metadata": {},
     "output_type": "execute_result"
    }
   ],
   "source": [
    "df2.shape"
   ]
  },
  {
   "cell_type": "markdown",
   "metadata": {},
   "source": [
    "## **CONSULTAS SQL UTILIZANDO PYTHON**"
   ]
  },
  {
   "cell_type": "code",
   "execution_count": 19,
   "metadata": {},
   "outputs": [],
   "source": [
    "#Para usar SQL hay que quitar los espacios en los nombres de las columnas de los dataframes\n",
    "df = df.rename(columns={\"Title\": \"title\", \"authors\": \"authors\", \"publisher\": \"publisher\", \"categories\": \"categories\", \"ratingsCount\": \"ratingsCount\"})\n"
   ]
  },
  {
   "cell_type": "code",
   "execution_count": 3,
   "metadata": {},
   "outputs": [],
   "source": [
    "#Numero total de libros a la venta\n",
    "q = \"\"\"\n",
    "SELECT\n",
    "COUNT(DISTINCT title) AS Total_Libros_Venta\n",
    "FROM df\n",
    "\"\"\"\n",
    "\n",
    "df_export = pysqldf(q)\n",
    "#df_export.to_csv('books_data.csv')"
   ]
  },
  {
   "cell_type": "code",
   "execution_count": 4,
   "metadata": {},
   "outputs": [
    {
     "data": {
      "text/html": [
       "<div>\n",
       "<style scoped>\n",
       "    .dataframe tbody tr th:only-of-type {\n",
       "        vertical-align: middle;\n",
       "    }\n",
       "\n",
       "    .dataframe tbody tr th {\n",
       "        vertical-align: top;\n",
       "    }\n",
       "\n",
       "    .dataframe thead th {\n",
       "        text-align: right;\n",
       "    }\n",
       "</style>\n",
       "<table border=\"1\" class=\"dataframe\">\n",
       "  <thead>\n",
       "    <tr style=\"text-align: right;\">\n",
       "      <th></th>\n",
       "      <th>Total_Libros_Venta</th>\n",
       "    </tr>\n",
       "  </thead>\n",
       "  <tbody>\n",
       "    <tr>\n",
       "      <th>0</th>\n",
       "      <td>180990</td>\n",
       "    </tr>\n",
       "  </tbody>\n",
       "</table>\n",
       "</div>"
      ],
      "text/plain": [
       "   Total_Libros_Venta\n",
       "0              180990"
      ]
     },
     "execution_count": 4,
     "metadata": {},
     "output_type": "execute_result"
    }
   ],
   "source": [
    "df_export"
   ]
  },
  {
   "cell_type": "code",
   "execution_count": 5,
   "metadata": {},
   "outputs": [],
   "source": [
    "#Numero total de autores \n",
    "q = \"\"\"\n",
    "SELECT\n",
    "COUNT(DISTINCT authors) AS Total_Autores\n",
    "FROM df\n",
    "\"\"\"\n",
    "\n",
    "df_export = pysqldf(q)\n",
    "#df_export.to_csv('books_data.csv')"
   ]
  },
  {
   "cell_type": "code",
   "execution_count": 6,
   "metadata": {},
   "outputs": [
    {
     "data": {
      "text/html": [
       "<div>\n",
       "<style scoped>\n",
       "    .dataframe tbody tr th:only-of-type {\n",
       "        vertical-align: middle;\n",
       "    }\n",
       "\n",
       "    .dataframe tbody tr th {\n",
       "        vertical-align: top;\n",
       "    }\n",
       "\n",
       "    .dataframe thead th {\n",
       "        text-align: right;\n",
       "    }\n",
       "</style>\n",
       "<table border=\"1\" class=\"dataframe\">\n",
       "  <thead>\n",
       "    <tr style=\"text-align: right;\">\n",
       "      <th></th>\n",
       "      <th>Total_Autores</th>\n",
       "    </tr>\n",
       "  </thead>\n",
       "  <tbody>\n",
       "    <tr>\n",
       "      <th>0</th>\n",
       "      <td>127275</td>\n",
       "    </tr>\n",
       "  </tbody>\n",
       "</table>\n",
       "</div>"
      ],
      "text/plain": [
       "   Total_Autores\n",
       "0         127275"
      ]
     },
     "execution_count": 6,
     "metadata": {},
     "output_type": "execute_result"
    }
   ],
   "source": [
    "df_export"
   ]
  },
  {
   "cell_type": "code",
   "execution_count": 7,
   "metadata": {},
   "outputs": [],
   "source": [
    "#Numero total de editoriales\n",
    "q = \"\"\"\n",
    "SELECT\n",
    "COUNT(DISTINCT publisher) AS Total_Editoriales\n",
    "FROM df\n",
    "\"\"\"\n",
    "\n",
    "df_export = pysqldf(q)\n",
    "#df_export.to_csv('books_data.csv')"
   ]
  },
  {
   "cell_type": "code",
   "execution_count": 8,
   "metadata": {},
   "outputs": [
    {
     "data": {
      "text/html": [
       "<div>\n",
       "<style scoped>\n",
       "    .dataframe tbody tr th:only-of-type {\n",
       "        vertical-align: middle;\n",
       "    }\n",
       "\n",
       "    .dataframe tbody tr th {\n",
       "        vertical-align: top;\n",
       "    }\n",
       "\n",
       "    .dataframe thead th {\n",
       "        text-align: right;\n",
       "    }\n",
       "</style>\n",
       "<table border=\"1\" class=\"dataframe\">\n",
       "  <thead>\n",
       "    <tr style=\"text-align: right;\">\n",
       "      <th></th>\n",
       "      <th>Total_Editoriales</th>\n",
       "    </tr>\n",
       "  </thead>\n",
       "  <tbody>\n",
       "    <tr>\n",
       "      <th>0</th>\n",
       "      <td>15802</td>\n",
       "    </tr>\n",
       "  </tbody>\n",
       "</table>\n",
       "</div>"
      ],
      "text/plain": [
       "   Total_Editoriales\n",
       "0              15802"
      ]
     },
     "execution_count": 8,
     "metadata": {},
     "output_type": "execute_result"
    }
   ],
   "source": [
    "df_export"
   ]
  },
  {
   "cell_type": "code",
   "execution_count": 9,
   "metadata": {},
   "outputs": [],
   "source": [
    "#Numero total de categorias\n",
    "q = \"\"\"\n",
    "SELECT\n",
    "COUNT(DISTINCT categories) AS Total_Categorias\n",
    "FROM df\n",
    "\"\"\"\n",
    "\n",
    "df_export = pysqldf(q)\n",
    "#df_export.to_csv('books_data.csv')"
   ]
  },
  {
   "cell_type": "code",
   "execution_count": 8,
   "metadata": {},
   "outputs": [],
   "source": [
    "#Se hace la query y se guarda en una variable, para despues mandarla como parametro en una función lambda\n",
    "q = \"\"\"\n",
    "SELECT TOP 5\n",
    "authors, COUNT(authors) AS Total_Libros_Venta_authors\n",
    "FROM df\n",
    "GROUP BY authors\n",
    "ORDER BY Total_Libros_Venta_authors DESC\n",
    "\"\"\"\n",
    "\n",
    "df_export = pysqldf(q)"
   ]
  },
  {
   "cell_type": "code",
   "execution_count": 20,
   "metadata": {},
   "outputs": [],
   "source": [
    "#Se exporta la información a el archivo, en caso de que se quiera\n",
    "#df_export.to_csv(\"Books_data.csv\")"
   ]
  },
  {
   "cell_type": "code",
   "execution_count": 9,
   "metadata": {},
   "outputs": [
    {
     "data": {
      "text/html": [
       "<div>\n",
       "<style scoped>\n",
       "    .dataframe tbody tr th:only-of-type {\n",
       "        vertical-align: middle;\n",
       "    }\n",
       "\n",
       "    .dataframe tbody tr th {\n",
       "        vertical-align: top;\n",
       "    }\n",
       "\n",
       "    .dataframe thead th {\n",
       "        text-align: right;\n",
       "    }\n",
       "</style>\n",
       "<table border=\"1\" class=\"dataframe\">\n",
       "  <thead>\n",
       "    <tr style=\"text-align: right;\">\n",
       "      <th></th>\n",
       "      <th>authors</th>\n",
       "      <th>Total_libros_a_la_venta</th>\n",
       "    </tr>\n",
       "  </thead>\n",
       "  <tbody>\n",
       "    <tr>\n",
       "      <th>0</th>\n",
       "      <td>['Rose Arny']</td>\n",
       "      <td>236</td>\n",
       "    </tr>\n",
       "    <tr>\n",
       "      <th>1</th>\n",
       "      <td>['William Shakespeare']</td>\n",
       "      <td>191</td>\n",
       "    </tr>\n",
       "    <tr>\n",
       "      <th>2</th>\n",
       "      <td>['Library of Congress. Copyright Office']</td>\n",
       "      <td>178</td>\n",
       "    </tr>\n",
       "    <tr>\n",
       "      <th>3</th>\n",
       "      <td>['Agatha Christie']</td>\n",
       "      <td>142</td>\n",
       "    </tr>\n",
       "    <tr>\n",
       "      <th>4</th>\n",
       "      <td>['Erle Stanley Gardner']</td>\n",
       "      <td>124</td>\n",
       "    </tr>\n",
       "    <tr>\n",
       "      <th>...</th>\n",
       "      <td>...</td>\n",
       "      <td>...</td>\n",
       "    </tr>\n",
       "    <tr>\n",
       "      <th>127272</th>\n",
       "      <td>[\"A. H. Gebhard-L'Estrange\"]</td>\n",
       "      <td>1</td>\n",
       "    </tr>\n",
       "    <tr>\n",
       "      <th>127273</th>\n",
       "      <td>[\"A'isha Ajayi\"]</td>\n",
       "      <td>1</td>\n",
       "    </tr>\n",
       "    <tr>\n",
       "      <th>127274</th>\n",
       "      <td>[\"'Jig rten mgon po (('Bri gung chos rje ;)\", ...</td>\n",
       "      <td>1</td>\n",
       "    </tr>\n",
       "    <tr>\n",
       "      <th>127275</th>\n",
       "      <td>[\"'Annah Sobelman\"]</td>\n",
       "      <td>1</td>\n",
       "    </tr>\n",
       "    <tr>\n",
       "      <th>127276</th>\n",
       "      <td>[\"'Abd al-Samih Abu 'Umar\"]</td>\n",
       "      <td>1</td>\n",
       "    </tr>\n",
       "  </tbody>\n",
       "</table>\n",
       "<p>127277 rows × 2 columns</p>\n",
       "</div>"
      ],
      "text/plain": [
       "                                                  authors  \\\n",
       "0                                           ['Rose Arny']   \n",
       "1                                 ['William Shakespeare']   \n",
       "2               ['Library of Congress. Copyright Office']   \n",
       "3                                     ['Agatha Christie']   \n",
       "4                                ['Erle Stanley Gardner']   \n",
       "...                                                   ...   \n",
       "127272                       [\"A. H. Gebhard-L'Estrange\"]   \n",
       "127273                                   [\"A'isha Ajayi\"]   \n",
       "127274  [\"'Jig rten mgon po (('Bri gung chos rje ;)\", ...   \n",
       "127275                                [\"'Annah Sobelman\"]   \n",
       "127276                        [\"'Abd al-Samih Abu 'Umar\"]   \n",
       "\n",
       "        Total_libros_a_la_venta  \n",
       "0                           236  \n",
       "1                           191  \n",
       "2                           178  \n",
       "3                           142  \n",
       "4                           124  \n",
       "...                         ...  \n",
       "127272                        1  \n",
       "127273                        1  \n",
       "127274                        1  \n",
       "127275                        1  \n",
       "127276                        1  \n",
       "\n",
       "[127277 rows x 2 columns]"
      ]
     },
     "execution_count": 9,
     "metadata": {},
     "output_type": "execute_result"
    }
   ],
   "source": [
    "#Se muestran los datos extraidos de la query, que autores tienen más libros a la venta en Amazon\n",
    "df_export"
   ]
  },
  {
   "cell_type": "code",
   "execution_count": 19,
   "metadata": {},
   "outputs": [],
   "source": [
    "#Qué editorial tiene más libros a la venta en Amazon\n",
    "q = \"\"\"\n",
    "SELECT\n",
    "publisher, COUNT(publisher) AS Total_Libros_Venta_publisher\n",
    "FROM df\n",
    "GROUP BY publisher\n",
    "ORDER BY Total_Libros_Venta_publisher DESC\n",
    "\"\"\"\n",
    "\n",
    "df_export = pysqldf(q)\n",
    "#df_export.to_csv('books_data.csv')"
   ]
  },
  {
   "cell_type": "code",
   "execution_count": 20,
   "metadata": {},
   "outputs": [
    {
     "data": {
      "text/html": [
       "<div>\n",
       "<style scoped>\n",
       "    .dataframe tbody tr th:only-of-type {\n",
       "        vertical-align: middle;\n",
       "    }\n",
       "\n",
       "    .dataframe tbody tr th {\n",
       "        vertical-align: top;\n",
       "    }\n",
       "\n",
       "    .dataframe thead th {\n",
       "        text-align: right;\n",
       "    }\n",
       "</style>\n",
       "<table border=\"1\" class=\"dataframe\">\n",
       "  <thead>\n",
       "    <tr style=\"text-align: right;\">\n",
       "      <th></th>\n",
       "      <th>publisher</th>\n",
       "      <th>Total_Libros_Venta_publisher</th>\n",
       "    </tr>\n",
       "  </thead>\n",
       "  <tbody>\n",
       "    <tr>\n",
       "      <th>0</th>\n",
       "      <td>Simon and Schuster</td>\n",
       "      <td>3441</td>\n",
       "    </tr>\n",
       "    <tr>\n",
       "      <th>1</th>\n",
       "      <td>Penguin</td>\n",
       "      <td>2803</td>\n",
       "    </tr>\n",
       "    <tr>\n",
       "      <th>2</th>\n",
       "      <td>Routledge</td>\n",
       "      <td>2389</td>\n",
       "    </tr>\n",
       "    <tr>\n",
       "      <th>3</th>\n",
       "      <td>John Wiley &amp; Sons</td>\n",
       "      <td>2028</td>\n",
       "    </tr>\n",
       "    <tr>\n",
       "      <th>4</th>\n",
       "      <td>Harper Collins</td>\n",
       "      <td>1907</td>\n",
       "    </tr>\n",
       "    <tr>\n",
       "      <th>...</th>\n",
       "      <td>...</td>\n",
       "      <td>...</td>\n",
       "    </tr>\n",
       "    <tr>\n",
       "      <th>15798</th>\n",
       "      <td>1-881713-71-7</td>\n",
       "      <td>1</td>\n",
       "    </tr>\n",
       "    <tr>\n",
       "      <th>15799</th>\n",
       "      <td>*Red Hat</td>\n",
       "      <td>1</td>\n",
       "    </tr>\n",
       "    <tr>\n",
       "      <th>15800</th>\n",
       "      <td>*A Wiley-QED Publication</td>\n",
       "      <td>1</td>\n",
       "    </tr>\n",
       "    <tr>\n",
       "      <th>15801</th>\n",
       "      <td>'The Rosen Publishing Group, Inc'</td>\n",
       "      <td>1</td>\n",
       "    </tr>\n",
       "    <tr>\n",
       "      <th>15802</th>\n",
       "      <td>None</td>\n",
       "      <td>0</td>\n",
       "    </tr>\n",
       "  </tbody>\n",
       "</table>\n",
       "<p>15803 rows × 2 columns</p>\n",
       "</div>"
      ],
      "text/plain": [
       "                               publisher  Total_Libros_Venta_publisher\n",
       "0                     Simon and Schuster                          3441\n",
       "1                                Penguin                          2803\n",
       "2                              Routledge                          2389\n",
       "3                      John Wiley & Sons                          2028\n",
       "4                         Harper Collins                          1907\n",
       "...                                  ...                           ...\n",
       "15798                      1-881713-71-7                             1\n",
       "15799                           *Red Hat                             1\n",
       "15800           *A Wiley-QED Publication                             1\n",
       "15801  'The Rosen Publishing Group, Inc'                             1\n",
       "15802                               None                             0\n",
       "\n",
       "[15803 rows x 2 columns]"
      ]
     },
     "execution_count": 20,
     "metadata": {},
     "output_type": "execute_result"
    }
   ],
   "source": [
    "#Qué editorial tiene más libros a la venta en Amazon\n",
    "df_export"
   ]
  },
  {
   "cell_type": "code",
   "execution_count": 27,
   "metadata": {},
   "outputs": [],
   "source": [
    "#Libros, autores, categorias con mayor numero de valoraciones por la gente\n",
    "q = \"\"\"\n",
    "SELECT\n",
    "title, authors, publisher, categories, ratingsCount \n",
    "FROM df\n",
    "GROUP BY title\n",
    "ORDER BY ratingsCount DESC\n",
    "\"\"\"\n",
    "\n",
    "df_export = pysqldf(q)\n",
    "#df_export.to_csv('books_data.csv')"
   ]
  },
  {
   "cell_type": "code",
   "execution_count": 28,
   "metadata": {},
   "outputs": [
    {
     "data": {
      "text/html": [
       "<div>\n",
       "<style scoped>\n",
       "    .dataframe tbody tr th:only-of-type {\n",
       "        vertical-align: middle;\n",
       "    }\n",
       "\n",
       "    .dataframe tbody tr th {\n",
       "        vertical-align: top;\n",
       "    }\n",
       "\n",
       "    .dataframe thead th {\n",
       "        text-align: right;\n",
       "    }\n",
       "</style>\n",
       "<table border=\"1\" class=\"dataframe\">\n",
       "  <thead>\n",
       "    <tr style=\"text-align: right;\">\n",
       "      <th></th>\n",
       "      <th>Title</th>\n",
       "      <th>ratingsCount</th>\n",
       "    </tr>\n",
       "  </thead>\n",
       "  <tbody>\n",
       "    <tr>\n",
       "      <th>0</th>\n",
       "      <td>The Alchemist</td>\n",
       "      <td>4895.0</td>\n",
       "    </tr>\n",
       "    <tr>\n",
       "      <th>1</th>\n",
       "      <td>Unbroken</td>\n",
       "      <td>4572.0</td>\n",
       "    </tr>\n",
       "    <tr>\n",
       "      <th>2</th>\n",
       "      <td>A Mission to Millions; The Story of Ernie Alle...</td>\n",
       "      <td>4572.0</td>\n",
       "    </tr>\n",
       "    <tr>\n",
       "      <th>3</th>\n",
       "      <td>Blue Like Jazz: Nonreligious Thoughts on Chris...</td>\n",
       "      <td>4562.0</td>\n",
       "    </tr>\n",
       "    <tr>\n",
       "      <th>4</th>\n",
       "      <td>Eclipse</td>\n",
       "      <td>4392.0</td>\n",
       "    </tr>\n",
       "    <tr>\n",
       "      <th>...</th>\n",
       "      <td>...</td>\n",
       "      <td>...</td>\n",
       "    </tr>\n",
       "    <tr>\n",
       "      <th>180985</th>\n",
       "      <td>\"A Truthful Impression of the Country\": Britis...</td>\n",
       "      <td>0.0</td>\n",
       "    </tr>\n",
       "    <tr>\n",
       "      <th>180986</th>\n",
       "      <td>\"A Titanic hero\" Thomas Andrews, shipbuilder</td>\n",
       "      <td>0.0</td>\n",
       "    </tr>\n",
       "    <tr>\n",
       "      <th>180987</th>\n",
       "      <td>\"... And Poetry is Born ...\" Russian Classical...</td>\n",
       "      <td>0.0</td>\n",
       "    </tr>\n",
       "    <tr>\n",
       "      <th>180988</th>\n",
       "      <td>\" We'll Always Have Paris\": The Definitive Gui...</td>\n",
       "      <td>0.0</td>\n",
       "    </tr>\n",
       "    <tr>\n",
       "      <th>180989</th>\n",
       "      <td>\" Film technique, \" and, \" Film acting \"</td>\n",
       "      <td>0.0</td>\n",
       "    </tr>\n",
       "  </tbody>\n",
       "</table>\n",
       "<p>180990 rows × 2 columns</p>\n",
       "</div>"
      ],
      "text/plain": [
       "                                                    Title  ratingsCount\n",
       "0                                           The Alchemist        4895.0\n",
       "1                                                Unbroken        4572.0\n",
       "2       A Mission to Millions; The Story of Ernie Alle...        4572.0\n",
       "3       Blue Like Jazz: Nonreligious Thoughts on Chris...        4562.0\n",
       "4                                                 Eclipse        4392.0\n",
       "...                                                   ...           ...\n",
       "180985  \"A Truthful Impression of the Country\": Britis...           0.0\n",
       "180986       \"A Titanic hero\" Thomas Andrews, shipbuilder           0.0\n",
       "180987  \"... And Poetry is Born ...\" Russian Classical...           0.0\n",
       "180988  \" We'll Always Have Paris\": The Definitive Gui...           0.0\n",
       "180989           \" Film technique, \" and, \" Film acting \"           0.0\n",
       "\n",
       "[180990 rows x 2 columns]"
      ]
     },
     "execution_count": 28,
     "metadata": {},
     "output_type": "execute_result"
    }
   ],
   "source": [
    "df_export"
   ]
  },
  {
   "cell_type": "code",
   "execution_count": 22,
   "metadata": {},
   "outputs": [],
   "source": [
    "#Categorias más comunes\n",
    "q = \"\"\"\n",
    "SELECT\n",
    "categories, COUNT(categories) AS Total_Libros_Venta_categories\n",
    "FROM df\n",
    "GROUP BY categories\n",
    "ORDER BY Total_Libros_Venta_categories DESC\n",
    "\"\"\"\n",
    "\n",
    "df_export = pysqldf(q)\n",
    "#df_export.to_csv(\"books_data.csv\")"
   ]
  },
  {
   "cell_type": "code",
   "execution_count": 23,
   "metadata": {},
   "outputs": [
    {
     "data": {
      "text/html": [
       "<div>\n",
       "<style scoped>\n",
       "    .dataframe tbody tr th:only-of-type {\n",
       "        vertical-align: middle;\n",
       "    }\n",
       "\n",
       "    .dataframe tbody tr th {\n",
       "        vertical-align: top;\n",
       "    }\n",
       "\n",
       "    .dataframe thead th {\n",
       "        text-align: right;\n",
       "    }\n",
       "</style>\n",
       "<table border=\"1\" class=\"dataframe\">\n",
       "  <thead>\n",
       "    <tr style=\"text-align: right;\">\n",
       "      <th></th>\n",
       "      <th>categories</th>\n",
       "      <th>Total_Libros_Venta_categories</th>\n",
       "    </tr>\n",
       "  </thead>\n",
       "  <tbody>\n",
       "    <tr>\n",
       "      <th>0</th>\n",
       "      <td>Fiction</td>\n",
       "      <td>23391</td>\n",
       "    </tr>\n",
       "    <tr>\n",
       "      <th>1</th>\n",
       "      <td>Religion</td>\n",
       "      <td>9349</td>\n",
       "    </tr>\n",
       "    <tr>\n",
       "      <th>2</th>\n",
       "      <td>History</td>\n",
       "      <td>9273</td>\n",
       "    </tr>\n",
       "    <tr>\n",
       "      <th>3</th>\n",
       "      <td>Juvenile Fiction</td>\n",
       "      <td>6476</td>\n",
       "    </tr>\n",
       "    <tr>\n",
       "      <th>4</th>\n",
       "      <td>Biography &amp; Autobiography</td>\n",
       "      <td>6307</td>\n",
       "    </tr>\n",
       "    <tr>\n",
       "      <th>...</th>\n",
       "      <td>...</td>\n",
       "      <td>...</td>\n",
       "    </tr>\n",
       "    <tr>\n",
       "      <th>10418</th>\n",
       "      <td>.conometrics</td>\n",
       "      <td>1</td>\n",
       "    </tr>\n",
       "    <tr>\n",
       "      <th>10419</th>\n",
       "      <td>*AW01 - India - Indien</td>\n",
       "      <td>1</td>\n",
       "    </tr>\n",
       "    <tr>\n",
       "      <th>10420</th>\n",
       "      <td>\"Fram\" Expedition</td>\n",
       "      <td>1</td>\n",
       "    </tr>\n",
       "    <tr>\n",
       "      <th>10421</th>\n",
       "      <td>\"Billed as \"a musical about an old operetta,\" ...</td>\n",
       "      <td>1</td>\n",
       "    </tr>\n",
       "    <tr>\n",
       "      <th>10422</th>\n",
       "      <td>None</td>\n",
       "      <td>0</td>\n",
       "    </tr>\n",
       "  </tbody>\n",
       "</table>\n",
       "<p>10423 rows × 2 columns</p>\n",
       "</div>"
      ],
      "text/plain": [
       "                                              categories  \\\n",
       "0                                                Fiction   \n",
       "1                                               Religion   \n",
       "2                                                History   \n",
       "3                                       Juvenile Fiction   \n",
       "4                              Biography & Autobiography   \n",
       "...                                                  ...   \n",
       "10418                                       .conometrics   \n",
       "10419                             *AW01 - India - Indien   \n",
       "10420                                  \"Fram\" Expedition   \n",
       "10421  \"Billed as \"a musical about an old operetta,\" ...   \n",
       "10422                                               None   \n",
       "\n",
       "       Total_Libros_Venta_categories  \n",
       "0                              23391  \n",
       "1                               9349  \n",
       "2                               9273  \n",
       "3                               6476  \n",
       "4                               6307  \n",
       "...                              ...  \n",
       "10418                              1  \n",
       "10419                              1  \n",
       "10420                              1  \n",
       "10421                              1  \n",
       "10422                              0  \n",
       "\n",
       "[10423 rows x 2 columns]"
      ]
     },
     "execution_count": 23,
     "metadata": {},
     "output_type": "execute_result"
    }
   ],
   "source": [
    "df_export"
   ]
  },
  {
   "cell_type": "code",
   "execution_count": 18,
   "metadata": {},
   "outputs": [],
   "source": [
    "#Para usar SQL hay que quitar los espacios en los nombres de las columnas de los dataframes\n",
    "df2 = df2.rename(columns={\"Title\": \"title2\", \"Price\": \"price\", \"review/score\": \"review_score\"})\n"
   ]
  },
  {
   "cell_type": "code",
   "execution_count": 39,
   "metadata": {},
   "outputs": [],
   "source": [
    "#Libros más caros\n",
    "q = \"\"\"\n",
    "SELECT \n",
    "title2, price\n",
    "FROM df2\n",
    "GROUP BY title2\n",
    "ORDER BY price DESC\n",
    "\"\"\"\n",
    "\n",
    "df_export = pysqldf(q)\n",
    "#df_export.to_csv('Books_rating.csv')"
   ]
  },
  {
   "cell_type": "code",
   "execution_count": 99,
   "metadata": {},
   "outputs": [
    {
     "data": {
      "text/html": [
       "<div>\n",
       "<style scoped>\n",
       "    .dataframe tbody tr th:only-of-type {\n",
       "        vertical-align: middle;\n",
       "    }\n",
       "\n",
       "    .dataframe tbody tr th {\n",
       "        vertical-align: top;\n",
       "    }\n",
       "\n",
       "    .dataframe thead th {\n",
       "        text-align: right;\n",
       "    }\n",
       "</style>\n",
       "<table border=\"1\" class=\"dataframe\">\n",
       "  <thead>\n",
       "    <tr style=\"text-align: right;\">\n",
       "      <th></th>\n",
       "      <th>title</th>\n",
       "      <th>price</th>\n",
       "    </tr>\n",
       "  </thead>\n",
       "  <tbody>\n",
       "    <tr>\n",
       "      <th>0</th>\n",
       "      <td>Visual Genetics Plus: Tutorial and Lab Simulat...</td>\n",
       "      <td>995.0</td>\n",
       "    </tr>\n",
       "    <tr>\n",
       "      <th>1</th>\n",
       "      <td>Advances in Chemical Physics, Volume 119: Mode...</td>\n",
       "      <td>890.0</td>\n",
       "    </tr>\n",
       "    <tr>\n",
       "      <th>2</th>\n",
       "      <td>Youmans Neurological Surgery (Four Volume Set)</td>\n",
       "      <td>875.0</td>\n",
       "    </tr>\n",
       "    <tr>\n",
       "      <th>3</th>\n",
       "      <td>Leechdoms, Wortcunning and Starcraft</td>\n",
       "      <td>840.0</td>\n",
       "    </tr>\n",
       "    <tr>\n",
       "      <th>4</th>\n",
       "      <td>Chicago School Pragmatism (History of American...</td>\n",
       "      <td>840.0</td>\n",
       "    </tr>\n",
       "    <tr>\n",
       "      <th>...</th>\n",
       "      <td>...</td>\n",
       "      <td>...</td>\n",
       "    </tr>\n",
       "    <tr>\n",
       "      <th>212398</th>\n",
       "      <td>\"A careless word, a needless sinking\": A histo...</td>\n",
       "      <td>NaN</td>\n",
       "    </tr>\n",
       "    <tr>\n",
       "      <th>212399</th>\n",
       "      <td>\"A Titanic hero\" Thomas Andrews, shipbuilder</td>\n",
       "      <td>NaN</td>\n",
       "    </tr>\n",
       "    <tr>\n",
       "      <th>212400</th>\n",
       "      <td>\"... And Poetry is Born ...\" Russian Classical...</td>\n",
       "      <td>NaN</td>\n",
       "    </tr>\n",
       "    <tr>\n",
       "      <th>212401</th>\n",
       "      <td>\" We'll Always Have Paris\": The Definitive Gui...</td>\n",
       "      <td>NaN</td>\n",
       "    </tr>\n",
       "    <tr>\n",
       "      <th>212402</th>\n",
       "      <td>\" Film technique, \" and, \" Film acting \"</td>\n",
       "      <td>NaN</td>\n",
       "    </tr>\n",
       "  </tbody>\n",
       "</table>\n",
       "<p>212403 rows × 2 columns</p>\n",
       "</div>"
      ],
      "text/plain": [
       "                                                    title  price\n",
       "0       Visual Genetics Plus: Tutorial and Lab Simulat...  995.0\n",
       "1       Advances in Chemical Physics, Volume 119: Mode...  890.0\n",
       "2          Youmans Neurological Surgery (Four Volume Set)  875.0\n",
       "3                    Leechdoms, Wortcunning and Starcraft  840.0\n",
       "4       Chicago School Pragmatism (History of American...  840.0\n",
       "...                                                   ...    ...\n",
       "212398  \"A careless word, a needless sinking\": A histo...    NaN\n",
       "212399       \"A Titanic hero\" Thomas Andrews, shipbuilder    NaN\n",
       "212400  \"... And Poetry is Born ...\" Russian Classical...    NaN\n",
       "212401  \" We'll Always Have Paris\": The Definitive Gui...    NaN\n",
       "212402           \" Film technique, \" and, \" Film acting \"    NaN\n",
       "\n",
       "[212403 rows x 2 columns]"
      ]
     },
     "execution_count": 99,
     "metadata": {},
     "output_type": "execute_result"
    }
   ],
   "source": [
    "df_export"
   ]
  },
  {
   "cell_type": "code",
   "execution_count": null,
   "metadata": {},
   "outputs": [],
   "source": [
    "#Libros con mejor promedio de puntuación de reseña \n",
    "q = \"\"\"\n",
    "SELECT \n",
    "title2, (SUM(review_score) / COUNT(review_score)) AS Promedio_reseña, ratingsCount, COUNT(review_score) AS Cuenta\n",
    "FROM df2\n",
    "JOIN df\n",
    "ON df2.title2 = df.title\n",
    "WHERE ratingsCount >= 2500\n",
    "GROUP BY title2\n",
    "HAVING Cuenta > 10\n",
    "ORDER BY Promedio_reseña DESC\n",
    "\"\"\"\n",
    "\n",
    "df_export = pysqldf(q)\n",
    "#df_export.to_csv('Books_rating.csv')"
   ]
  },
  {
   "cell_type": "code",
   "execution_count": 62,
   "metadata": {},
   "outputs": [
    {
     "data": {
      "text/html": [
       "<div>\n",
       "<style scoped>\n",
       "    .dataframe tbody tr th:only-of-type {\n",
       "        vertical-align: middle;\n",
       "    }\n",
       "\n",
       "    .dataframe tbody tr th {\n",
       "        vertical-align: top;\n",
       "    }\n",
       "\n",
       "    .dataframe thead th {\n",
       "        text-align: right;\n",
       "    }\n",
       "</style>\n",
       "<table border=\"1\" class=\"dataframe\">\n",
       "  <thead>\n",
       "    <tr style=\"text-align: right;\">\n",
       "      <th></th>\n",
       "      <th>title2</th>\n",
       "      <th>Promedio_reseña</th>\n",
       "      <th>ratingsCount</th>\n",
       "      <th>Cuenta</th>\n",
       "    </tr>\n",
       "  </thead>\n",
       "  <tbody>\n",
       "    <tr>\n",
       "      <th>0</th>\n",
       "      <td>properties of Gases and Liquids</td>\n",
       "      <td>5.000000</td>\n",
       "      <td>1.0</td>\n",
       "      <td>11</td>\n",
       "    </tr>\n",
       "    <tr>\n",
       "      <th>1</th>\n",
       "      <td>babyTales: A Pregnancy Companion</td>\n",
       "      <td>5.000000</td>\n",
       "      <td>0.0</td>\n",
       "      <td>24</td>\n",
       "    </tr>\n",
       "    <tr>\n",
       "      <th>2</th>\n",
       "      <td>You Can't Take It With You: A Play</td>\n",
       "      <td>5.000000</td>\n",
       "      <td>3.0</td>\n",
       "      <td>11</td>\n",
       "    </tr>\n",
       "    <tr>\n",
       "      <th>3</th>\n",
       "      <td>You Can Stop Smoking</td>\n",
       "      <td>5.000000</td>\n",
       "      <td>1.0</td>\n",
       "      <td>19</td>\n",
       "    </tr>\n",
       "    <tr>\n",
       "      <th>4</th>\n",
       "      <td>You Are Here Traveling with JohnnyJet.com: The...</td>\n",
       "      <td>5.000000</td>\n",
       "      <td>0.0</td>\n",
       "      <td>18</td>\n",
       "    </tr>\n",
       "    <tr>\n",
       "      <th>...</th>\n",
       "      <td>...</td>\n",
       "      <td>...</td>\n",
       "      <td>...</td>\n",
       "      <td>...</td>\n",
       "    </tr>\n",
       "    <tr>\n",
       "      <th>34827</th>\n",
       "      <td>Sams Teach Yourself More Visual Basic 6 in 21 ...</td>\n",
       "      <td>1.166667</td>\n",
       "      <td>0.0</td>\n",
       "      <td>18</td>\n",
       "    </tr>\n",
       "    <tr>\n",
       "      <th>34828</th>\n",
       "      <td>McGraw-Hill's LSAT</td>\n",
       "      <td>1.142857</td>\n",
       "      <td>0.0</td>\n",
       "      <td>14</td>\n",
       "    </tr>\n",
       "    <tr>\n",
       "      <th>34829</th>\n",
       "      <td>MCSE Windows 2000 Security Design Exam Cram (E...</td>\n",
       "      <td>1.133333</td>\n",
       "      <td>0.0</td>\n",
       "      <td>15</td>\n",
       "    </tr>\n",
       "    <tr>\n",
       "      <th>34830</th>\n",
       "      <td>Unglued &amp; Tattooed: How to Save Your Teen from...</td>\n",
       "      <td>1.090909</td>\n",
       "      <td>68.0</td>\n",
       "      <td>11</td>\n",
       "    </tr>\n",
       "    <tr>\n",
       "      <th>34831</th>\n",
       "      <td>Cracking the GRE Chemistry (Princeton Review S...</td>\n",
       "      <td>1.000000</td>\n",
       "      <td>0.0</td>\n",
       "      <td>17</td>\n",
       "    </tr>\n",
       "  </tbody>\n",
       "</table>\n",
       "<p>34832 rows × 4 columns</p>\n",
       "</div>"
      ],
      "text/plain": [
       "                                                  title2  Promedio_reseña  \\\n",
       "0                        properties of Gases and Liquids         5.000000   \n",
       "1                       babyTales: A Pregnancy Companion         5.000000   \n",
       "2                     You Can't Take It With You: A Play         5.000000   \n",
       "3                                   You Can Stop Smoking         5.000000   \n",
       "4      You Are Here Traveling with JohnnyJet.com: The...         5.000000   \n",
       "...                                                  ...              ...   \n",
       "34827  Sams Teach Yourself More Visual Basic 6 in 21 ...         1.166667   \n",
       "34828                                 McGraw-Hill's LSAT         1.142857   \n",
       "34829  MCSE Windows 2000 Security Design Exam Cram (E...         1.133333   \n",
       "34830  Unglued & Tattooed: How to Save Your Teen from...         1.090909   \n",
       "34831  Cracking the GRE Chemistry (Princeton Review S...         1.000000   \n",
       "\n",
       "       ratingsCount  Cuenta  \n",
       "0               1.0      11  \n",
       "1               0.0      24  \n",
       "2               3.0      11  \n",
       "3               1.0      19  \n",
       "4               0.0      18  \n",
       "...             ...     ...  \n",
       "34827           0.0      18  \n",
       "34828           0.0      14  \n",
       "34829           0.0      15  \n",
       "34830          68.0      11  \n",
       "34831           0.0      17  \n",
       "\n",
       "[34832 rows x 4 columns]"
      ]
     },
     "execution_count": 62,
     "metadata": {},
     "output_type": "execute_result"
    }
   ],
   "source": [
    "df_export"
   ]
  },
  {
   "cell_type": "code",
   "execution_count": null,
   "metadata": {},
   "outputs": [],
   "source": [
    "#Libros con mejor promedio de puntuación de reseña (otra forma de hacerlo)\n",
    "q = \"\"\"\n",
    "SELECT \n",
    "df2.title, (SUM(df2.review_score) / COUNT(df2.review_score)) AS Promedio_reseña, df.ratingsCount, COUNT(df2.review_score) AS Cuenta\n",
    "FROM df, df2\n",
    "WHERE df.Title= df2.title AND df.ratingsCount >= 2500 \n",
    "GROUP BY df2.title\n",
    "HAVING Cuenta > 10\n",
    "ORDER BY Promedio_reseña DESC\n",
    "\"\"\"\n",
    "\n",
    "df_export = pysqldf(q)\n",
    "#df_export.to_csv('Books_rating.csv')"
   ]
  },
  {
   "cell_type": "code",
   "execution_count": null,
   "metadata": {},
   "outputs": [],
   "source": [
    "df_export"
   ]
  }
 ],
 "metadata": {
  "kernelspec": {
   "display_name": "Python 3 (ipykernel)",
   "language": "python",
   "name": "python3"
  },
  "language_info": {
   "codemirror_mode": {
    "name": "ipython",
    "version": 3
   },
   "file_extension": ".py",
   "mimetype": "text/x-python",
   "name": "python",
   "nbconvert_exporter": "python",
   "pygments_lexer": "ipython3",
   "version": "3.11.1"
  }
 },
 "nbformat": 4,
 "nbformat_minor": 5
}
